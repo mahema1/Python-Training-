{
 "cells": [
  {
   "cell_type": "code",
   "execution_count": 5,
   "metadata": {},
   "outputs": [
    {
     "name": "stdout",
     "output_type": "stream",
     "text": [
      "Number not found\n"
     ]
    }
   ],
   "source": [
    "def linearsearch(a,x):\n",
    "    flag=0\n",
    "    for i in range(len(a)):\n",
    "        if a[i] == x:\n",
    "            flag=1\n",
    "            break\n",
    "    if(flag!=0):\n",
    "        print(\"number is found\")\n",
    "    else:\n",
    "        print(\"Number not found\")\n",
    "a=[18,7,45,77,29,10]\n",
    "linearsearch(a,97)"
   ]
  },
  {
   "cell_type": "code",
   "execution_count": 1,
   "metadata": {},
   "outputs": [
    {
     "name": "stdout",
     "output_type": "stream",
     "text": [
      "4\n",
      "Number is found\n"
     ]
    }
   ],
   "source": [
    "def linearsearchduplicate(a,x):\n",
    "    flag=0\n",
    "    for i in range(len(a)):\n",
    "        if a[i]==x:\n",
    "            flag=flag+1\n",
    "    print(flag)\n",
    "    if(flag!=0):\n",
    "        print(\"Number is found\")\n",
    "    else:\n",
    "        print(\"Number is not found\")\n",
    "a=[19,88,7,56,3,4,3,5,3,3]\n",
    "linearsearchduplicate(a,3)"
   ]
  },
  {
   "cell_type": "code",
   "execution_count": 6,
   "metadata": {},
   "outputs": [
    {
     "name": "stdout",
     "output_type": "stream",
     "text": [
      "1\n",
      "4\n",
      "found\n"
     ]
    }
   ],
   "source": [
    "def linear(a,x):\n",
    "    flag=0\n",
    "    for i in range(len(a)):\n",
    "        if a[i]==x:\n",
    "            flag=flag+1\n",
    "            print(i)\n",
    "    if(flag!=0):\n",
    "        print(\"found\")\n",
    "    else:\n",
    "        print(\"not found\")\n",
    "a=[1,3,5,2,3]\n",
    "linear(a,3)"
   ]
  },
  {
   "cell_type": "code",
   "execution_count": 17,
   "metadata": {},
   "outputs": [
    {
     "name": "stdout",
     "output_type": "stream",
     "text": [
      "1\n",
      "!!4\n",
      "!!!!!found\n"
     ]
    }
   ],
   "source": [
    "def l(a,x):\n",
    "    flag=0\n",
    "    for i in range(len(a)):\n",
    "        if a[i]==x:\n",
    "            flag=flag+1\n",
    "            print(i)\n",
    "            j=0\n",
    "            while(j!=i+1):\n",
    "                print(\"!\",end=\"\")\n",
    "                j=j+1\n",
    "                    \n",
    "    if(flag!=0):\n",
    "        print(\"found\")\n",
    "    else:\n",
    "        print(\"not found\")\n",
    "a=[1,3,5,2,3]\n",
    "l(a,3)"
   ]
  },
  {
   "cell_type": "code",
   "execution_count": 24,
   "metadata": {},
   "outputs": [
    {
     "name": "stdout",
     "output_type": "stream",
     "text": [
      "60\n"
     ]
    }
   ],
   "source": [
    "def l(a):\n",
    "    sum=0\n",
    "    for i in range(len(a)):\n",
    "        if((a[i]%3==0) and (a[i]%5==0)):\n",
    "            sum=sum+a[i]\n",
    "    print(sum)\n",
    "a=[15,20,1,22,45]\n",
    "l(a)"
   ]
  },
  {
   "cell_type": "code",
   "execution_count": 29,
   "metadata": {},
   "outputs": [
    {
     "name": "stdout",
     "output_type": "stream",
     "text": [
      "1  3  8  15  5  "
     ]
    }
   ],
   "source": [
    "def l(a): \n",
    "    for i in range(len(a)):\n",
    "        if i==0 or i==(len(a)-1):\n",
    "            print(a[i],end=\"  \")\n",
    "        else:\n",
    "            print(a[i-1]*a[i+1],end=\"  \")\n",
    "a=[1,2,3,4,5]\n",
    "l(a)\n",
    "        \n",
    "    "
   ]
  },
  {
   "cell_type": "code",
   "execution_count": 31,
   "metadata": {},
   "outputs": [
    {
     "name": "stdout",
     "output_type": "stream",
     "text": [
      "1  9  19  22  "
     ]
    }
   ],
   "source": [
    "def l(a): \n",
    "    for i in range(len(a)):\n",
    "        if i==0 or i==(len(a)-1):\n",
    "            print(a[i],end=\"  \")\n",
    "        elif((a[i-1]%2==0) and (a[i+1]%2==0)):\n",
    "            print(a[i],end=\"  \")\n",
    "a=[1,6,9,4,16,19,22]\n",
    "l(a)"
   ]
  },
  {
   "cell_type": "code",
   "execution_count": 34,
   "metadata": {},
   "outputs": [
    {
     "name": "stdout",
     "output_type": "stream",
     "text": [
      "enter the number1452\n",
      "[1, 4, 5, 2]\n"
     ]
    }
   ],
   "source": [
    "def lm(n):\n",
    "    l=[]\n",
    "    while(n!=0):\n",
    "     r=n%10\n",
    "     l.append(r)\n",
    "     n=n//10\n",
    "    print(l[::-1])\n",
    "n=int(input(\"enter the number\"))\n",
    "lm(n)\n",
    "    "
   ]
  },
  {
   "cell_type": "code",
   "execution_count": 36,
   "metadata": {},
   "outputs": [
    {
     "name": "stdout",
     "output_type": "stream",
     "text": [
      "12345"
     ]
    }
   ],
   "source": [
    "def l(a): \n",
    "    for i in range(len(a)):\n",
    "        print(a[i],end=\"\")\n",
    "a=[1,2,3,4,5]\n",
    "l(a)"
   ]
  },
  {
   "cell_type": "code",
   "execution_count": 40,
   "metadata": {},
   "outputs": [
    {
     "name": "stdout",
     "output_type": "stream",
     "text": [
      "246"
     ]
    }
   ],
   "source": [
    "def l(a): \n",
    "    for i in range(len(a)):\n",
    "        if(a[i]%2==0):\n",
    "            print(a[i],end=\"\")\n",
    "a=[1,2,3,4,5,6]\n",
    "l(a)"
   ]
  },
  {
   "cell_type": "code",
   "execution_count": 44,
   "metadata": {
    "scrolled": true
   },
   "outputs": [
    {
     "name": "stdout",
     "output_type": "stream",
     "text": [
      "enter the number14569\n",
      "[4, 6]\n"
     ]
    }
   ],
   "source": [
    "def lm(n):\n",
    "    l=[]\n",
    "    while(n!=0):\n",
    "     r=n%10\n",
    "     if r%2==0:\n",
    "      l.append(r)\n",
    "     n=n//10\n",
    "    print(l[::-1])\n",
    "n=int(input(\"enter the number\"))\n",
    "lm(n)"
   ]
  },
  {
   "cell_type": "code",
   "execution_count": 49,
   "metadata": {},
   "outputs": [
    {
     "name": "stdout",
     "output_type": "stream",
     "text": [
      "15  34  31  28  4  "
     ]
    }
   ],
   "source": [
    "def l(a): \n",
    "    for i in range(len(a)):\n",
    "        if i==0 or i==(len(a)-1):\n",
    "            print(a[i],end=\"  \")\n",
    "        else:\n",
    "            print(a[i]+a[i-1],end=\"  \")\n",
    "a=[15,19,12,16,4]\n",
    "l(a)\n",
    "        \n",
    "    "
   ]
  },
  {
   "cell_type": "code",
   "execution_count": 56,
   "metadata": {},
   "outputs": [
    {
     "name": "stdout",
     "output_type": "stream",
     "text": [
      "[1, 4, 3, 16, 5]\n"
     ]
    }
   ],
   "source": [
    "def l(a): \n",
    "    m=[]\n",
    "    for i in range(len(a)):\n",
    "        if i%2!=0:\n",
    "           m.append(a[i]**2)\n",
    "        else:\n",
    "           m.append(a[i])\n",
    "    return m\n",
    "a=[1,2,3,4,5]\n",
    "print(l(a))\n",
    "        "
   ]
  },
  {
   "cell_type": "code",
   "execution_count": 57,
   "metadata": {},
   "outputs": [
    {
     "name": "stdout",
     "output_type": "stream",
     "text": [
      "1  4  3  16  5  "
     ]
    }
   ],
   "source": [
    "def l(a): \n",
    "    for i in range(len(a)):\n",
    "        if i==0 or i==(len(a)-1) or i==(len(a)-3):\n",
    "            print(a[i],end=\"  \")\n",
    "        else:\n",
    "            print(a[i]*a[i],end=\"  \")\n",
    "a=[1,2,3,4,5]\n",
    "l(a)"
   ]
  }
 ],
 "metadata": {
  "kernelspec": {
   "display_name": "Python 3",
   "language": "python",
   "name": "python3"
  },
  "language_info": {
   "codemirror_mode": {
    "name": "ipython",
    "version": 3
   },
   "file_extension": ".py",
   "mimetype": "text/x-python",
   "name": "python",
   "nbconvert_exporter": "python",
   "pygments_lexer": "ipython3",
   "version": "3.7.3"
  }
 },
 "nbformat": 4,
 "nbformat_minor": 2
}
