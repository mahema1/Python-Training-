{
 "cells": [
  {
   "cell_type": "code",
   "execution_count": 14,
   "metadata": {},
   "outputs": [
    {
     "name": "stdout",
     "output_type": "stream",
     "text": [
      "1  2  3  4  5  6  7  8  9  10  \n"
     ]
    }
   ],
   "source": [
    "def naturalnumbers(n):\n",
    "    cnt=1\n",
    "    while(cnt <= n):\n",
    "        print(cnt,end=\"  \")\n",
    "        cnt=cnt+1\n",
    "    print()\n",
    "naturalnumbers(10)"
   ]
  },
  {
   "cell_type": "code",
   "execution_count": 16,
   "metadata": {},
   "outputs": [
    {
     "name": "stdout",
     "output_type": "stream",
     "text": [
      "120\n"
     ]
    }
   ],
   "source": [
    "def factorial(n):\n",
    "    fact=1\n",
    "    while(n!=0):\n",
    "        fact=fact*n\n",
    "        n=n-1\n",
    "    return fact\n",
    "print(factorial(5))"
   ]
  },
  {
   "cell_type": "code",
   "execution_count": 2,
   "metadata": {},
   "outputs": [
    {
     "name": "stdout",
     "output_type": "stream",
     "text": [
      "2\n",
      "18\n"
     ]
    }
   ],
   "source": [
    "def palindromes(n1,n2):\n",
    "    cnt=0\n",
    "    while(n1<=n2):\n",
    "        t=n1\n",
    "        s=0\n",
    "        while(t>0):\n",
    "          r=t%10\n",
    "          s=s*10+r\n",
    "          t=t//10\n",
    "        if s==n1:\n",
    "          cnt=cnt+1\n",
    "        n1=n1+1\n",
    "    return cnt\n",
    "print(palindromes(10,30))\n",
    "print(palindromes(1,100))"
   ]
  },
  {
   "cell_type": "markdown",
   "metadata": {},
   "source": [
    "## count of palindromes between two limits"
   ]
  }
 ],
 "metadata": {
  "kernelspec": {
   "display_name": "Python 3",
   "language": "python",
   "name": "python3"
  },
  "language_info": {
   "codemirror_mode": {
    "name": "ipython",
    "version": 3
   },
   "file_extension": ".py",
   "mimetype": "text/x-python",
   "name": "python",
   "nbconvert_exporter": "python",
   "pygments_lexer": "ipython3",
   "version": "3.7.3"
  }
 },
 "nbformat": 4,
 "nbformat_minor": 2
}
