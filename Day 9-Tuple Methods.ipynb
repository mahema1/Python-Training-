{
 "cells": [
  {
   "cell_type": "code",
   "execution_count": 10,
   "metadata": {},
   "outputs": [
    {
     "name": "stdout",
     "output_type": "stream",
     "text": [
      "('python', 'programming', '1999', '2019', 'easy')\n",
      "(1, 2, 3, 4, 5)\n"
     ]
    }
   ],
   "source": [
    "t1=(\"python\",\"programming\",\"1999\",\"2019\",\"easy\")\n",
    "t2=(1,2,3,4,5)\n",
    "print(t1)\n",
    "print(t2)"
   ]
  },
  {
   "cell_type": "code",
   "execution_count": 14,
   "metadata": {},
   "outputs": [
    {
     "name": "stdout",
     "output_type": "stream",
     "text": [
      "t1[0]= python\n",
      "t1[-1]= easy\n",
      "t1[1:3]= ('programming', '1999')\n",
      "t1[1:-1]= ('programming', '1999', '2019')\n"
     ]
    }
   ],
   "source": [
    "print(\"t1[0]=\",t1[0])\n",
    "print(\"t1[-1]=\",t1[-1])\n",
    "print(\"t1[1:3]=\",t1[1:3])\n",
    "print(\"t1[1:-1]=\",t1[1:-1])"
   ]
  },
  {
   "cell_type": "code",
   "execution_count": 18,
   "metadata": {},
   "outputs": [
    {
     "name": "stdout",
     "output_type": "stream",
     "text": [
      "('python', 'programming', '1999', '2019', 'easy', 1, 2, 3, 4, 5)\n"
     ]
    }
   ],
   "source": [
    "t1=(\"python\",\"programming\",\"1999\",\"2019\",\"easy\")\n",
    "t2=(1,2,3,4,5)\n",
    "t3=t1+t2\n",
    "print(t3)"
   ]
  },
  {
   "cell_type": "code",
   "execution_count": 20,
   "metadata": {},
   "outputs": [
    {
     "name": "stdout",
     "output_type": "stream",
     "text": [
      "5\n"
     ]
    }
   ],
   "source": [
    "t1=(\"python\",\"programming\",\"1999\",\"2019\",\"easy\")\n",
    "print(len(t1))\n"
   ]
  },
  {
   "cell_type": "code",
   "execution_count": 25,
   "metadata": {},
   "outputs": [
    {
     "name": "stdout",
     "output_type": "stream",
     "text": [
      "99\n",
      "-5\n"
     ]
    }
   ],
   "source": [
    "t1=(\"python\",\"programming\",\"1999\",\"2019\",\"easy\")\n",
    "t2=(1,2,-5,3,4,5,99,65)\n",
    "print(max(t2))\n",
    "print(min(t2))"
   ]
  },
  {
   "cell_type": "code",
   "execution_count": 36,
   "metadata": {},
   "outputs": [
    {
     "name": "stdout",
     "output_type": "stream",
     "text": [
      "['python', 'programming', '1999']\n",
      "('python', 'programming', '1999')\n"
     ]
    }
   ],
   "source": [
    "list=[\"python\",\"programming\",\"1999\"]\n",
    "print(list)\n",
    "t1=tuple(list)\n",
    "print(t1)"
   ]
  },
  {
   "cell_type": "code",
   "execution_count": null,
   "metadata": {},
   "outputs": [],
   "source": []
  }
 ],
 "metadata": {
  "kernelspec": {
   "display_name": "Python 3",
   "language": "python",
   "name": "python3"
  },
  "language_info": {
   "codemirror_mode": {
    "name": "ipython",
    "version": 3
   },
   "file_extension": ".py",
   "mimetype": "text/x-python",
   "name": "python",
   "nbconvert_exporter": "python",
   "pygments_lexer": "ipython3",
   "version": "3.7.3"
  }
 },
 "nbformat": 4,
 "nbformat_minor": 2
}
