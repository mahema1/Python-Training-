{
 "cells": [
  {
   "cell_type": "code",
   "execution_count": 11,
   "metadata": {},
   "outputs": [
    {
     "name": "stdout",
     "output_type": "stream",
     "text": [
      "True\n",
      "False\n",
      "True\n",
      "True\n"
     ]
    }
   ],
   "source": [
    "#PhoneNumberValidate\n",
    "import re\n",
    "def PhoneNumberValidate(phone):\n",
    "    pattern=\"^[6-9][0-9]{9}$|^[0][6-9][0-9]{9}$|^[+][9][1][6-9][0-9]{9}$\"\n",
    "    phone=str(phone)\n",
    "    if re.match(pattern,phone):\n",
    "        return True\n",
    "    return False\n",
    "print(PhoneNumberValidate(6303662392))\n",
    "print(PhoneNumberValidate(912889345))\n",
    "print(PhoneNumberValidate(\"06303662392\"))\n",
    "print(PhoneNumberValidate(\"+916303662392\"))"
   ]
  },
  {
   "cell_type": "code",
   "execution_count": 14,
   "metadata": {},
   "outputs": [
    {
     "name": "stdout",
     "output_type": "stream",
     "text": [
      "True\n",
      "False\n"
     ]
    }
   ],
   "source": [
    "#Validation of rollnumber\n",
    "#152U1A0501-152U1A0560\n",
    "#^[1][5][2][U][1][A][0][5][0-6][0-9]$\n",
    "import re\n",
    "def Rollnumbervalidate(number):\n",
    "    pattern=\"^[1][5][2][U][1][A][0][5][0-6][0-9]$\"\n",
    "    number=str(number)\n",
    "    if re.match(pattern,number):\n",
    "        return True\n",
    "    return False\n",
    "print(Rollnumbervalidate(\"152U1A0506\"))\n",
    "print(Rollnumbervalidate(\"152U1A0452\"))"
   ]
  },
  {
   "cell_type": "markdown",
   "metadata": {},
   "source": [
    "## EmailID validation: username@domainname.extension\n",
    "### username: length [6-15] characters,no spl characters, should not end with _, digits,lower\n",
    "### Domainname: [3-8],no spl,all digits and lower\n",
    "### extension: [2-4],no spl,lower\n"
   ]
  },
  {
   "cell_type": "code",
   "execution_count": 17,
   "metadata": {},
   "outputs": [
    {
     "name": "stdout",
     "output_type": "stream",
     "text": [
      "True\n",
      "False\n"
     ]
    }
   ],
   "source": [
    "#^[0-9a-z][0-9a-z_.]{4,13}[0-9a-z][@][a-z0-9]{3,18}[.][a-z]{2,4}$\n",
    "import re\n",
    "def EmailIDValidate(email):\n",
    "    pattern=\"^[0-9a-z][0-9a-z_.]{4,13}[0-9a-z][@][a-z0-9]{3,18}[.][a-z]{2,4}$\"\n",
    "    email=str(email)\n",
    "    if re.match(pattern,email):\n",
    "        return True\n",
    "    return False\n",
    "print(EmailIDValidate(\"mahemareddy1@gmail.com\"))\n",
    "print(EmailIDValidate(\"$anil_@gmail.com\"))"
   ]
  },
  {
   "cell_type": "markdown",
   "metadata": {},
   "source": [
    "### regular expression -- password\n",
    "### parameters -- [6-15]\n",
    "### lower,upper,spl(@,#,$)"
   ]
  },
  {
   "cell_type": "code",
   "execution_count": 21,
   "metadata": {},
   "outputs": [
    {
     "name": "stdout",
     "output_type": "stream",
     "text": [
      "True\n",
      "True\n",
      "False\n"
     ]
    }
   ],
   "source": [
    "import re\n",
    "def passwordValidate(password):\n",
    "    pattern=\"^[a-zA-z0-9@$#!]{6,15}$\"\n",
    "    password=str(password)\n",
    "    if re.match(pattern,password):\n",
    "        return True\n",
    "    return False\n",
    "print(passwordValidate(\"gyfy$332\"))\n",
    "print(passwordValidate(\"f@#$hAD\"))\n",
    "print(passwordValidate(\"fhdgfh*45\"))"
   ]
  },
  {
   "cell_type": "markdown",
   "metadata": {},
   "source": [
    "#### ^[a]...[z]$\n",
    "\n",
    "####^[a].*[z]$"
   ]
  },
  {
   "cell_type": "code",
   "execution_count": null,
   "metadata": {},
   "outputs": [],
   "source": []
  }
 ],
 "metadata": {
  "kernelspec": {
   "display_name": "Python 3",
   "language": "python",
   "name": "python3"
  },
  "language_info": {
   "codemirror_mode": {
    "name": "ipython",
    "version": 3
   },
   "file_extension": ".py",
   "mimetype": "text/x-python",
   "name": "python",
   "nbconvert_exporter": "python",
   "pygments_lexer": "ipython3",
   "version": "3.7.3"
  }
 },
 "nbformat": 4,
 "nbformat_minor": 2
}
