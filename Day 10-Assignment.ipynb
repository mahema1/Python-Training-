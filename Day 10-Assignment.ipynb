{
 "cells": [
  {
   "cell_type": "code",
   "execution_count": 24,
   "metadata": {},
   "outputs": [],
   "source": [
    "def createfile(filename):\n",
    "    f=open(filename,\"w\")\n",
    "    f.write(\"Virtual Machine\\n\")\n",
    "    f.write(\"In computing, a virtual machine (VM) is an emulation of a computer system. Virtual machines are based on computer architectures and provide functionality of a physical computer.\\n Their implementations may involve specialized hardware, software, or a combination.There are different kinds of virtual machines, each with different functions:\\nSystem virtual machines (also termed full virtualization VMs) provide a substitute for a real machine.\\n They provide functionality needed to execute entire operating systems. A hypervisor uses native execution to share and manage hardware, allowing for multiple environments which are isolated from one another, yet exist on the same physical machine.\\n Modern hypervisors use hardware-assisted virtualization, virtualization-specific hardware, primarily from the host CPUs.Process virtual machines are designed to execute computer programs in a platform-independent environment.\\nSome virtual machines, such as QEMU, are designed to also emulate different architectures and allow execution of software applications and operating systems written for another CPU or architecture. \\nOperating-system-level virtualization allows the resources of a computer to be partitioned via the kernel. The terms are not universally interchangeable. \")\n",
    "    f.close()\n",
    "    return\n",
    "createfile(\"file.txt\")"
   ]
  },
  {
   "cell_type": "code",
   "execution_count": 25,
   "metadata": {},
   "outputs": [
    {
     "name": "stdout",
     "output_type": "stream",
     "text": [
      "Virtual Machine\n",
      "In computing, a virtual machine (VM) is an emulation of a computer system. Virtual machines are based on computer architectures and provide functionality of a physical computer.\n",
      " Their implementations may involve specialized hardware, software, or a combination.There are different kinds of virtual machines, each with different functions:\n",
      "System virtual machines (also termed full virtualization VMs) provide a substitute for a real machine.\n",
      " They provide functionality needed to execute entire operating systems. A hypervisor uses native execution to share and manage hardware, allowing for multiple environments which are isolated from one another, yet exist on the same physical machine.\n",
      " Modern hypervisors use hardware-assisted virtualization, virtualization-specific hardware, primarily from the host CPUs.Process virtual machines are designed to execute computer programs in a platform-independent environment.\n",
      "Some virtual machines, such as QEMU, are designed to also emulate different architectures and allow execution of software applications and operating systems written for another CPU or architecture. \n",
      "Operating-system-level virtualization allows the resources of a computer to be partitioned via the kernel. The terms are not universally interchangeable. \n"
     ]
    }
   ],
   "source": [
    "def readfile(filename):\n",
    "    f=open(filename,\"r\")\n",
    "    if f.mode == \"r\":\n",
    "        x=f.read()\n",
    "        print(x)\n",
    "    f.close()\n",
    "    return\n",
    "readfile(\"file.txt\")"
   ]
  },
  {
   "cell_type": "code",
   "execution_count": 26,
   "metadata": {},
   "outputs": [
    {
     "name": "stdout",
     "output_type": "stream",
     "text": [
      "1053\n"
     ]
    }
   ],
   "source": [
    "def countlower(filename):\n",
    "    cnt=0\n",
    "    f=open(filename,\"r\")\n",
    "    if f.mode==\"r\":\n",
    "        x=f.read()\n",
    "        lst=list(x)\n",
    "        for i in lst:\n",
    "            if i.islower():\n",
    "                 cnt=cnt+1\n",
    "    return cnt\n",
    "print(countlower(\"file.txt\"))"
   ]
  },
  {
   "cell_type": "code",
   "execution_count": 27,
   "metadata": {},
   "outputs": [
    {
     "name": "stdout",
     "output_type": "stream",
     "text": [
      "0\n"
     ]
    }
   ],
   "source": [
    "def countdigits(filename):\n",
    "    cnt=0\n",
    "    f=open(filename,\"r\")\n",
    "    if f.mode==\"r\":\n",
    "        x=f.read()\n",
    "        lst=list(x)\n",
    "        for i in range(len(lst)):\n",
    "            if ord(lst[i]) >=48 and ord(lst[i]) <=51: \n",
    "                 cnt=cnt+1\n",
    "    return cnt\n",
    "print(countdigits(\"file.txt\"))"
   ]
  },
  {
   "cell_type": "code",
   "execution_count": 28,
   "metadata": {},
   "outputs": [
    {
     "name": "stdout",
     "output_type": "stream",
     "text": [
      "30\n"
     ]
    }
   ],
   "source": [
    "def countSpecialCharacters(filename):\n",
    "    cnt=0\n",
    "    f=open(filename,\"r\")\n",
    "    if f.mode==\"r\":\n",
    "        x=f.read()\n",
    "        lst=list(x)\n",
    "        for i in range(len(lst)):\n",
    "            if ord(lst[i]) >=33 and ord(lst[i]) <=47: \n",
    "                 cnt=cnt+1\n",
    "    return cnt\n",
    "print(countSpecialCharacters(\"file.txt\"))"
   ]
  },
  {
   "cell_type": "code",
   "execution_count": 41,
   "metadata": {},
   "outputs": [],
   "source": [
    "def createfile(filename):\n",
    "    f=open(filename,\"w\")\n",
    "    f.write(\"Name:N Mahema Reddy\\nEmailID:mahemareddy1@gmail.com\\nMobile Number:6303662392\\n\")\n",
    "    f.close()\n",
    "    return\n",
    "createfile(\"Details.txt\")"
   ]
  },
  {
   "cell_type": "code",
   "execution_count": 33,
   "metadata": {},
   "outputs": [
    {
     "name": "stdout",
     "output_type": "stream",
     "text": [
      "Name:N Mahema Reddy\n",
      "EmailID:mahemareddy1@gmail.com\n",
      "Mobile Number:6303662392\n",
      "\n"
     ]
    }
   ],
   "source": [
    "def readfile(filename):\n",
    "    f=open(filename,\"r\")\n",
    "    if f.mode == \"r\":\n",
    "        x=f.read()\n",
    "        print(x)\n",
    "    f.close()\n",
    "    return\n",
    "readfile(\"Details.txt\")"
   ]
  },
  {
   "cell_type": "code",
   "execution_count": 35,
   "metadata": {},
   "outputs": [
    {
     "data": {
      "text/plain": [
       "True"
      ]
     },
     "execution_count": 35,
     "metadata": {},
     "output_type": "execute_result"
    }
   ],
   "source": [
    "import re\n",
    "def PhoneNumberValidate(phone):\n",
    "    pattern=\"^[6-9][0-9]{9}$|^[0][6-9][0-9]{9}$|^[+][9][1][6-9][0-9]{9}$\"\n",
    "    phone=str(phone)\n",
    "    if re.match(pattern,phone):\n",
    "        return True\n",
    "    return False\n",
    "PhoneNumberValidate(\"6303662392\")"
   ]
  },
  {
   "cell_type": "code",
   "execution_count": 37,
   "metadata": {},
   "outputs": [
    {
     "data": {
      "text/plain": [
       "True"
      ]
     },
     "execution_count": 37,
     "metadata": {},
     "output_type": "execute_result"
    }
   ],
   "source": [
    "import re\n",
    "def EmailIDValidate(email):\n",
    "    pattern=\"^[0-9a-z][0-9a-z_.]{4,13}[0-9a-z][@][a-z0-9]{3,18}[.][a-z]{2,4}$\"\n",
    "    email=str(email)\n",
    "    if re.match(pattern,email):\n",
    "        return True\n",
    "    return False\n",
    "EmailIDValidate(\"mahemareddy1@gmail.com\")"
   ]
  },
  {
   "cell_type": "code",
   "execution_count": 46,
   "metadata": {},
   "outputs": [
    {
     "name": "stdout",
     "output_type": "stream",
     "text": [
      "True\n",
      "False\n"
     ]
    }
   ],
   "source": [
    "import re\n",
    "def namevalidate(name):\n",
    "    pattern=\"^[a-zA-Z]{4,15}[ ][a-zA-Z]{4,15}$\"\n",
    "    name=str(name)\n",
    "    if re.match(pattern,name):\n",
    "        return True\n",
    "    return False   \n",
    "print(namevalidate(\"Mahema Reddy\"))\n",
    "print(namevalidate(\"sai\"))"
   ]
  }
 ],
 "metadata": {
  "kernelspec": {
   "display_name": "Python 3",
   "language": "python",
   "name": "python3"
  },
  "language_info": {
   "codemirror_mode": {
    "name": "ipython",
    "version": 3
   },
   "file_extension": ".py",
   "mimetype": "text/x-python",
   "name": "python",
   "nbconvert_exporter": "python",
   "pygments_lexer": "ipython3",
   "version": "3.7.3"
  }
 },
 "nbformat": 4,
 "nbformat_minor": 2
}
