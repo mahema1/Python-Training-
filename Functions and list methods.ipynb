{
 "cells": [
  {
   "cell_type": "code",
   "execution_count": 9,
   "metadata": {},
   "outputs": [
    {
     "name": "stdout",
     "output_type": "stream",
     "text": [
      "110\n"
     ]
    }
   ],
   "source": [
    "def printeven(n):\n",
    "    cnt=0\n",
    "    sum=0\n",
    "    while(cnt<=n):\n",
    "        if(cnt%2==0):\n",
    "            sum=sum+cnt\n",
    "        cnt=cnt+1\n",
    "    return sum\n",
    "print(printeven(20))"
   ]
  },
  {
   "cell_type": "markdown",
   "metadata": {},
   "source": [
    "## Sum of even numbers"
   ]
  },
  {
   "cell_type": "code",
   "execution_count": 11,
   "metadata": {},
   "outputs": [
    {
     "name": "stdout",
     "output_type": "stream",
     "text": [
      "1  2  3  4  6  "
     ]
    }
   ],
   "source": [
    "def factors(n):\n",
    "    i=1\n",
    "    while(i!=n):\n",
    "        if(n%i==0):\n",
    "            print(i,end=\"  \")\n",
    "        i=i+1\n",
    "    return \n",
    "factors(12)"
   ]
  },
  {
   "cell_type": "markdown",
   "metadata": {},
   "source": [
    "## factors of a given number"
   ]
  },
  {
   "cell_type": "code",
   "execution_count": 14,
   "metadata": {},
   "outputs": [
    {
     "name": "stdout",
     "output_type": "stream",
     "text": [
      "[1, 2, 3, 4, 5]\n",
      "1\n"
     ]
    }
   ],
   "source": [
    "list1=[1,2,3,4,5]\n",
    "print(list1)\n",
    "print(list1[0])"
   ]
  },
  {
   "cell_type": "markdown",
   "metadata": {},
   "source": [
    "## Lists"
   ]
  },
  {
   "cell_type": "code",
   "execution_count": 16,
   "metadata": {},
   "outputs": [
    {
     "name": "stdout",
     "output_type": "stream",
     "text": [
      "a  b  c  "
     ]
    }
   ],
   "source": [
    "list2=[\"a\",\"b\",\"c\"]\n",
    "for x in list2:\n",
    "    print(x,end=\"  \")"
   ]
  },
  {
   "cell_type": "markdown",
   "metadata": {},
   "source": [
    "## for loop"
   ]
  },
  {
   "cell_type": "code",
   "execution_count": 30,
   "metadata": {},
   "outputs": [
    {
     "name": "stdout",
     "output_type": "stream",
     "text": [
      "1 2 3 4 5 6 7 8 \n",
      "5\n",
      "[1, 2, 3, 4, 5, 6, 7]\n",
      "[1, 2, 3, 4, 5, 6, 7]\n"
     ]
    }
   ],
   "source": [
    "list1=[1,2,3,4,5,6,7,8]\n",
    "for x in list1:\n",
    "    print(x,end=\" \")\n",
    "print()\n",
    "print(list1[4])\n",
    "print(list1[0:7])\n",
    "print(list1[:7])"
   ]
  },
  {
   "cell_type": "code",
   "execution_count": 48,
   "metadata": {},
   "outputs": [
    {
     "name": "stdout",
     "output_type": "stream",
     "text": [
      "1  2  3  4  5  6  7  8  \n",
      "[2, 3, 4, 5, 6, 7]\n",
      "[3, 4, 5, 6]\n",
      "[1, 3, 5, 7]\n",
      "[1, 4, 7]\n",
      "[8, 6, 4, 2]\n",
      "8\n",
      "7\n"
     ]
    }
   ],
   "source": [
    "list1=[1,2,3,4,5,6,7,8]\n",
    "for x in list1:\n",
    "    print(x,end=\"  \")\n",
    "print()\n",
    "print(list1[1:-1])##emits the first and the last number\n",
    "print(list1[2:-2])##emits the first and the last two numbers\n",
    "print(list1[::2])##alternate\n",
    "print(list1[::3])\n",
    "print(list1[::-2])##alternate numbers from the end\n",
    "print(list1[-1])\n",
    "print(list1[-2])\n"
   ]
  },
  {
   "cell_type": "markdown",
   "metadata": {},
   "source": [
    "## slice operators"
   ]
  },
  {
   "cell_type": "code",
   "execution_count": 59,
   "metadata": {},
   "outputs": [
    {
     "name": "stdout",
     "output_type": "stream",
     "text": [
      "[1, 2, 3, 4, 5, 6, 7, 8]\n",
      "[1, 2, 3, 4, 5, 70, 7, 8]\n",
      "[1, 2, 4, 5, 70, 7, 8]\n",
      "['a', 'b', 'c']\n",
      "[1, 2, 4, 5, 70, 7, 8, 'a', 'b', 'c']\n"
     ]
    }
   ],
   "source": [
    "list1=[1,2,3,4,5,6,7,8]\n",
    "list2=['a',\"b\",\"c\"]\n",
    "print(list1)\n",
    "list1[5]=70\n",
    "print(list1)\n",
    "del list1[2]##delete\n",
    "print(list1)\n",
    "print(list2)\n",
    "print(list1+list2)"
   ]
  },
  {
   "cell_type": "code",
   "execution_count": 63,
   "metadata": {},
   "outputs": [
    {
     "name": "stdout",
     "output_type": "stream",
     "text": [
      "[1, 2, 3, 4, 5, 6, 7, 8]\n",
      "8\n",
      "[1, 2, 3, 4, 5, 6, 7, 8, 15]\n",
      "9\n",
      "[1, 2, 3, 4, 5, 6, 7, 8, 15, 8, 8]\n",
      "3\n"
     ]
    }
   ],
   "source": [
    "list1=[1,2,3,4,5,6,7,8]\n",
    "print(list1)\n",
    "print(len(list1))\n",
    "list1.append(15)\n",
    "print(list1)\n",
    "print(len(list1))\n",
    "list1.append(8)\n",
    "list1.append(8)\n",
    "print(list1)\n",
    "print(list1.count(8))"
   ]
  },
  {
   "cell_type": "code",
   "execution_count": 76,
   "metadata": {},
   "outputs": [
    {
     "name": "stdout",
     "output_type": "stream",
     "text": [
      "3\n",
      "[1, 7, 2019, 2, 3, 4, 5, 6, 7, 8, 7]\n",
      "[1, 2019, 2, 3, 4, 5, 6, 7, 8, 7]\n",
      "[1, 2019, 2, 3, 4, 5, 6, 8, 7]\n",
      "[7, 8, 6, 5, 4, 3, 2, 2019, 1]\n"
     ]
    }
   ],
   "source": [
    "list1=[1,7,2,3,4,5,6,7,8,7]\n",
    "print(list1.index(3))\n",
    "list1.insert(2,2019)\n",
    "print(list1)\n",
    "list1.remove(7)\n",
    "print(list1)\n",
    "list1.remove(7)\n",
    "print(list1)\n",
    "list1.reverse()\n",
    "print(list1)"
   ]
  },
  {
   "cell_type": "code",
   "execution_count": null,
   "metadata": {},
   "outputs": [],
   "source": []
  }
 ],
 "metadata": {
  "kernelspec": {
   "display_name": "Python 3",
   "language": "python",
   "name": "python3"
  },
  "language_info": {
   "codemirror_mode": {
    "name": "ipython",
    "version": 3
   },
   "file_extension": ".py",
   "mimetype": "text/x-python",
   "name": "python",
   "nbconvert_exporter": "python",
   "pygments_lexer": "ipython3",
   "version": "3.7.3"
  }
 },
 "nbformat": 4,
 "nbformat_minor": 2
}
