{
 "cells": [
  {
   "cell_type": "code",
   "execution_count": 9,
   "metadata": {},
   "outputs": [
    {
     "name": "stdout",
     "output_type": "stream",
     "text": [
      "Application\n",
      "Application test\n",
      "        Working\n",
      "        Completed\n",
      "str[-1] n\n",
      "str[5] c\n",
      "str[-5] a\n",
      "str[1:7] pplica\n",
      "str[:5] Appli\n",
      "str[2:-5] plic\n",
      "str[::-1] noitacilppA\n",
      "str[::2] Apiain\n"
     ]
    }
   ],
   "source": [
    "str='Application'\n",
    "print(str)\n",
    "str2='''Application test\n",
    "        Working\n",
    "        Completed'''\n",
    "print(str2)\n",
    "print('str[-1]',str[-1])\n",
    "print('str[5]',str[5])\n",
    "print('str[-5]',str[-5])\n",
    "print( 'str[1:7]',str[1:7])\n",
    "print('str[:5]',str[:5])\n",
    "print('str[2:-5]',str[2:-5])\n",
    "print('str[::-1]',str[::-1])\n",
    "print('str[::2]',str[::2])"
   ]
  },
  {
   "cell_type": "code",
   "execution_count": 16,
   "metadata": {},
   "outputs": [
    {
     "name": "stdout",
     "output_type": "stream",
     "text": [
      "False\n",
      "True\n"
     ]
    }
   ],
   "source": [
    "def ispalindrome(s):\n",
    "    if s==s[::-1]:\n",
    "        return True\n",
    "    else:\n",
    "        return False\n",
    "print(ispalindrome(\"Applications\"))\n",
    "print(ispalindrome(\"aha\"))"
   ]
  },
  {
   "cell_type": "code",
   "execution_count": 21,
   "metadata": {},
   "outputs": [
    {
     "name": "stdout",
     "output_type": "stream",
     "text": [
      "Enter a number147852\n",
      "6\n"
     ]
    }
   ],
   "source": [
    "#count the digits of a number\n",
    "n=int(input(\"Enter a number\"))\n",
    "cnt=0\n",
    "while(n!=0):\n",
    "    cnt=cnt+1\n",
    "    n=n//10\n",
    "print(cnt)"
   ]
  },
  {
   "cell_type": "code",
   "execution_count": 25,
   "metadata": {},
   "outputs": [
    {
     "name": "stdout",
     "output_type": "stream",
     "text": [
      "2\n",
      "3\n"
     ]
    }
   ],
   "source": [
    "def countuppercase(str):\n",
    "    cnt=0\n",
    "    lst=list(str)\n",
    "    for x in range(len(lst)):\n",
    "        if ord(lst[x]) >=65 and ord(lst[x]) <=90: \n",
    "            cnt=cnt+1\n",
    "    \n",
    "    return cnt\n",
    "print(countuppercase(\"AppLication\"))\n",
    "print(countuppercase(\"TeST\"))"
   ]
  },
  {
   "cell_type": "code",
   "execution_count": 26,
   "metadata": {},
   "outputs": [
    {
     "data": {
      "text/plain": [
       "3"
      ]
     },
     "execution_count": 26,
     "metadata": {},
     "output_type": "execute_result"
    }
   ],
   "source": [
    "def count(str):\n",
    "    lst=list(str)\n",
    "    return len(lst)\n",
    "count(\"App\")"
   ]
  },
  {
   "cell_type": "code",
   "execution_count": 45,
   "metadata": {},
   "outputs": [
    {
     "name": "stdout",
     "output_type": "stream",
     "text": [
      "2544\n",
      "34564\n"
     ]
    }
   ],
   "source": [
    "def printdigits(str):\n",
    "    #48-57\n",
    "    lst=list(str)\n",
    "    for x in range(len(lst)):\n",
    "        if ord(lst[x]) >=48 and ord(lst[x]) <=57:\n",
    "            print(lst[x],end='')\n",
    "    print()\n",
    "    \n",
    "printdigits(\"Application2544\")\n",
    "printdigits(\"ready3456h4\")"
   ]
  },
  {
   "cell_type": "code",
   "execution_count": 46,
   "metadata": {},
   "outputs": [
    {
     "name": "stdout",
     "output_type": "stream",
     "text": [
      "11\n"
     ]
    }
   ],
   "source": [
    "def sumofdigits(str):\n",
    "    #48-57\n",
    "    sum=0\n",
    "    lst=list(str)\n",
    "    for x in range(len(lst)):\n",
    "        if ord(lst[x]) >=48 and ord(lst[x]) <=57:\n",
    "            #print(lst[x],end='')\n",
    "            sum=sum+ord(lst[x])-48\n",
    "    return sum\n",
    "            \n",
    "print(sumofdigits(\"app1541\"))"
   ]
  },
  {
   "cell_type": "code",
   "execution_count": 54,
   "metadata": {},
   "outputs": [
    {
     "name": "stdout",
     "output_type": "stream",
     "text": [
      "8\n"
     ]
    }
   ],
   "source": [
    " def sumofdigits(str):\n",
    "    #48-57\n",
    "    sum=0\n",
    "    lst=list(str)\n",
    "    for x in range(len(lst)):\n",
    "        if ord(lst[x]) >=48 and ord(lst[x]) <=57:\n",
    "            #print(lst[x],end='')\n",
    "            #for x in range(len(lst)):\n",
    "                 if(ord(lst[x])%2==0):\n",
    "                         sum=sum+ord(lst[x])-48\n",
    "    return sum\n",
    "            \n",
    "print(sumofdigits(\"app154221\"))"
   ]
  },
  {
   "cell_type": "code",
   "execution_count": 55,
   "metadata": {},
   "outputs": [
    {
     "ename": "IndentationError",
     "evalue": "expected an indented block (<ipython-input-55-f6bc8e344685>, line 8)",
     "output_type": "error",
     "traceback": [
      "\u001b[0;36m  File \u001b[0;32m\"<ipython-input-55-f6bc8e344685>\"\u001b[0;36m, line \u001b[0;32m8\u001b[0m\n\u001b[0;31m    return cnt\u001b[0m\n\u001b[0m    ^\u001b[0m\n\u001b[0;31mIndentationError\u001b[0m\u001b[0;31m:\u001b[0m expected an indented block\n"
     ]
    }
   ],
   "source": [
    "def countuppercase(str):\n",
    "    cnt=0\n",
    "    lst=list(str)\n",
    "    for x in range(len(lst)):\n",
    "        if ord(lst[x]) >=65 and ord(lst[x]) <=90: \n",
    "            \n",
    "    \n",
    "    return cnt\n",
    "print(countuppercase(\"AppLication\"))\n",
    "print(countuppercase(\"TeST\"))"
   ]
  },
  {
   "cell_type": "code",
   "execution_count": null,
   "metadata": {},
   "outputs": [],
   "source": []
  }
 ],
 "metadata": {
  "kernelspec": {
   "display_name": "Python 3",
   "language": "python",
   "name": "python3"
  },
  "language_info": {
   "codemirror_mode": {
    "name": "ipython",
    "version": 3
   },
   "file_extension": ".py",
   "mimetype": "text/x-python",
   "name": "python",
   "nbconvert_exporter": "python",
   "pygments_lexer": "ipython3",
   "version": "3.7.3"
  }
 },
 "nbformat": 4,
 "nbformat_minor": 2
}
