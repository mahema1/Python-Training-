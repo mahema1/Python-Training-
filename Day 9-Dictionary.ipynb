{
 "cells": [
  {
   "cell_type": "code",
   "execution_count": 7,
   "metadata": {},
   "outputs": [
    {
     "name": "stdout",
     "output_type": "stream",
     "text": [
      "user1[Name]= Anil\n",
      "user1[Age]= 29\n",
      "user1[Email]= anil@gmail.com\n"
     ]
    }
   ],
   "source": [
    "user1={\"Name\": \"Anil\",\"Age\": 29,\"Email\":\"anil@gmail.com\",\"Mobile number\":9988776655}\n",
    "print(\"user1[Name]=\",user1[\"Name\"])\n",
    "print(\"user1[Age]=\",user1[\"Age\"])\n",
    "print(\"user1[Email]=\",user1[\"Email\"])"
   ]
  },
  {
   "cell_type": "code",
   "execution_count": 16,
   "metadata": {},
   "outputs": [
    {
     "name": "stdout",
     "output_type": "stream",
     "text": [
      "user1[Email]= anil@gmail.com\n",
      "user1[Email]= anil1@gmail.com\n",
      "user1[Address]= Hyderabad\n"
     ]
    },
    {
     "ename": "KeyError",
     "evalue": "'Age'",
     "output_type": "error",
     "traceback": [
      "\u001b[0;31m---------------------------------------------------------------------------\u001b[0m",
      "\u001b[0;31mKeyError\u001b[0m                                  Traceback (most recent call last)",
      "\u001b[0;32m<ipython-input-16-dc34984c340b>\u001b[0m in \u001b[0;36m<module>\u001b[0;34m\u001b[0m\n\u001b[1;32m      8\u001b[0m \u001b[0;31m#print(\"user1[Email]=\",user1[\"Email\"])\u001b[0m\u001b[0;34m\u001b[0m\u001b[0;34m\u001b[0m\u001b[0;34m\u001b[0m\u001b[0m\n\u001b[1;32m      9\u001b[0m \u001b[0muser1\u001b[0m\u001b[0;34m.\u001b[0m\u001b[0mclear\u001b[0m\u001b[0;34m(\u001b[0m\u001b[0;34m)\u001b[0m\u001b[0;34m\u001b[0m\u001b[0;34m\u001b[0m\u001b[0m\n\u001b[0;32m---> 10\u001b[0;31m \u001b[0mprint\u001b[0m\u001b[0;34m(\u001b[0m\u001b[0muser1\u001b[0m\u001b[0;34m[\u001b[0m\u001b[0;34m\"Age\"\u001b[0m\u001b[0;34m]\u001b[0m\u001b[0;34m)\u001b[0m\u001b[0;34m\u001b[0m\u001b[0;34m\u001b[0m\u001b[0m\n\u001b[0m",
      "\u001b[0;31mKeyError\u001b[0m: 'Age'"
     ]
    }
   ],
   "source": [
    "user1={\"Name\": \"Anil\",\"Age\": 29,\"Email\":\"anil@gmail.com\",\"Mobile number\":9988776655}\n",
    "print(\"user1[Email]=\",user1[\"Email\"])\n",
    "user1[\"Email\"]=\"anil1@gmail.com\"#update\n",
    "print(\"user1[Email]=\",user1[\"Email\"])\n",
    "user1[\"Address\"]= \"Hyderabad\"\n",
    "print(\"user1[Address]=\",user1[\"Address\"])\n",
    "#del user1[\"Email\"]\n",
    "#print(\"user1[Email]=\",user1[\"Email\"])\n",
    "user1.clear()\n",
    "print(user1[\"Age\"])"
   ]
  },
  {
   "cell_type": "code",
   "execution_count": 20,
   "metadata": {},
   "outputs": [
    {
     "name": "stdout",
     "output_type": "stream",
     "text": [
      "4\n",
      "{'Name': 'Anil', 'Age': 29, 'Email': 'anil@gmail.com', 'Mobile number': 9988776655}\n",
      "{'Name': 'Anil', 'Age': 29, 'Email': 'anil@gmail.com', 'Mobile number': 9988776655}\n"
     ]
    }
   ],
   "source": [
    "user1={\"Name\": \"Anil\",\"Age\": 29,\"Email\":\"anil@gmail.com\",\"Mobile number\":9988776655}\n",
    "print(len(user1))\n",
    "user2=user1.copy()\n",
    "print(user1)\n",
    "print(user2)"
   ]
  },
  {
   "cell_type": "code",
   "execution_count": 23,
   "metadata": {},
   "outputs": [
    {
     "name": "stdout",
     "output_type": "stream",
     "text": [
      "dict_items([('Name', 'Anil'), ('Age', 29), ('Email', 'anil@gmail.com'), ('Mobile number', 9988776655)])\n",
      "dict_values(['Anil', 29, 'anil@gmail.com', 9988776655])\n"
     ]
    }
   ],
   "source": [
    "user1={\"Name\": \"Anil\",\"Age\": 29,\"Email\":\"anil@gmail.com\",\"Mobile number\":9988776655}\n",
    "print(user1.items())\n",
    "print(user1.values())"
   ]
  },
  {
   "cell_type": "code",
   "execution_count": 4,
   "metadata": {},
   "outputs": [
    {
     "name": "stdout",
     "output_type": "stream",
     "text": [
      "contact Harshit added\n",
      "contact Mahema added\n"
     ]
    }
   ],
   "source": [
    "#adding a contact\n",
    "contacts={}\n",
    "def addcontact(name,phone):\n",
    "    if name not in contacts:\n",
    "        contacts[name]=phone\n",
    "        print(\"contact %s added\" % name)\n",
    "    else:\n",
    "        print(\"contact %s already exists\" % name)\n",
    "    return\n",
    "addcontact('Harshit',9121988346)\n",
    "addcontact('Mahema',6303662392)"
   ]
  },
  {
   "cell_type": "code",
   "execution_count": 9,
   "metadata": {},
   "outputs": [
    {
     "name": "stdout",
     "output_type": "stream",
     "text": [
      "contact harshit does not exists\n"
     ]
    }
   ],
   "source": [
    "#Searching a contact\n",
    "def searchcontact(name):\n",
    "    if name in contacts:\n",
    "        print(\"contact %s exits\" % name)\n",
    "    else:\n",
    "        print(\"contact %s does not exists\" % name)\n",
    "    return\n",
    "searchcontact(\"harshit\")\n"
   ]
  },
  {
   "cell_type": "code",
   "execution_count": 26,
   "metadata": {},
   "outputs": [
    {
     "name": "stdout",
     "output_type": "stream",
     "text": [
      "2 contacts added successfully\n",
      "{'Harshit': 9121988346, 'Mahema': 6303662392, 'Ajay': 8877665544, 'Dinesh': 9977886655}\n"
     ]
    }
   ],
   "source": [
    " #Merge new contacts\n",
    "def importcontacts(newcontacts):\n",
    "    contacts.update(newcontacts)\n",
    "    print(len(newcontacts.keys()),\"contacts added successfully\")\n",
    "    return\n",
    "newcontacts={\"Dinesh\":9977886655,\"Ajay\":8877665544}\n",
    "importcontacts(newcontacts)\n",
    "print(contacts)"
   ]
  },
  {
   "cell_type": "code",
   "execution_count": 24,
   "metadata": {},
   "outputs": [
    {
     "name": "stdout",
     "output_type": "stream",
     "text": [
      "Dinesh contact is deleted\n"
     ]
    }
   ],
   "source": [
    "#Delete a contact from contact list\n",
    "def deletecontact(name):\n",
    "    if name in contacts:\n",
    "        del contacts[name]\n",
    "        print(name,\"contact is deleted\")\n",
    "    else:\n",
    "        print(name,\"Does not exits\")\n",
    "    return\n",
    "deletecontact(\"Dinesh\")\n",
    "#eletecontact(\"hema\")"
   ]
  },
  {
   "cell_type": "code",
   "execution_count": 28,
   "metadata": {},
   "outputs": [
    {
     "name": "stdout",
     "output_type": "stream",
     "text": [
      "Ajay updated with new phone number\n"
     ]
    }
   ],
   "source": [
    " def updatecontact(name,phone):\n",
    "        if name in contacts:\n",
    "            contacts[name]=phone\n",
    "            print(name,\"updated with new phone number\")\n",
    "        else:\n",
    "            print(name,\"does not exists\")\n",
    "        return\n",
    "updatecontact(\"Ajay\",9988779988)"
   ]
  },
  {
   "cell_type": "code",
   "execution_count": null,
   "metadata": {},
   "outputs": [],
   "source": []
  }
 ],
 "metadata": {
  "kernelspec": {
   "display_name": "Python 3",
   "language": "python",
   "name": "python3"
  },
  "language_info": {
   "codemirror_mode": {
    "name": "ipython",
    "version": 3
   },
   "file_extension": ".py",
   "mimetype": "text/x-python",
   "name": "python",
   "nbconvert_exporter": "python",
   "pygments_lexer": "ipython3",
   "version": "3.7.3"
  }
 },
 "nbformat": 4,
 "nbformat_minor": 2
}
